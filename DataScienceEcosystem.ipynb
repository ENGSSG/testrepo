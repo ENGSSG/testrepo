{
 "cells": [
  {
   "cell_type": "markdown",
   "id": "6dd80152-344f-4bb0-adb2-ecad36c0dd52",
   "metadata": {},
   "source": [
    "# Data Science Tools and Ecosystem"
   ]
  },
  {
   "cell_type": "markdown",
   "id": "c65ef72c-555f-46fb-9f16-214f6b7de192",
   "metadata": {},
   "source": [
    "In this notebook, Data Science Tools and Ecosystem are summarized."
   ]
  },
  {
   "cell_type": "markdown",
   "id": "ded98f24-f59b-4792-be4d-12e091096a27",
   "metadata": {},
   "source": [
    "Some of the popular languages that Data Scientists use are:\n",
    "\n",
    "1.  Python\n",
    "2.  R\n",
    "3.  SQL\n",
    "4.  Scala\n",
    "5.  JavaScript"
   ]
  },
  {
   "cell_type": "markdown",
   "id": "ac9113f9-e1d0-4730-a2b8-b49b40c3aab7",
   "metadata": {},
   "source": [
    "Some of the commonly used libraries used by Data Scientists include:\n",
    "\n",
    "1.  TensorFlow\n",
    "2.  SciPy\n",
    "3.  Pandas\n",
    "4.  NumPy\n",
    "5.  Matplotlib"
   ]
  },
  {
   "cell_type": "markdown",
   "id": "da75d99d-9146-40d7-a812-7717f21e45a2",
   "metadata": {},
   "source": [
    "|Data Science Tools|\n",
    "|:---:|\n",
    "|Hadoop|\n",
    "|Apache Spark|\n",
    "|MongoDB|"
   ]
  },
  {
   "cell_type": "markdown",
   "id": "f0f75b7e-f4da-4326-913b-315f8b1f43af",
   "metadata": {},
   "source": [
    "### Below are a few examples of evaluating arithmetic expressions in Python"
   ]
  },
  {
   "cell_type": "code",
   "execution_count": 9,
   "id": "82b37777-d303-41d9-8fe2-b65001388d10",
   "metadata": {},
   "outputs": [
    {
     "name": "stdout",
     "output_type": "stream",
     "text": [
      "17\n"
     ]
    }
   ],
   "source": [
    "#This a simple arithmetic expression to mutiply then add integers\n",
    "print((3*4)+5)"
   ]
  },
  {
   "cell_type": "code",
   "execution_count": 10,
   "id": "7049fcf1-f346-4657-9c5e-17380c22628a",
   "metadata": {},
   "outputs": [
    {
     "name": "stdout",
     "output_type": "stream",
     "text": [
      "200 minutes in hours is  3.33 hrs\n"
     ]
    }
   ],
   "source": [
    "#This will convert 200 minutes to hours by diving by 60\n",
    "print(\"200 minutes in hours is \",round(200/60,2),\"hrs\")"
   ]
  },
  {
   "cell_type": "markdown",
   "id": "c144d452-8ac5-4afa-8919-068c638d0d2f",
   "metadata": {},
   "source": [
    "**Objectives:**\n",
    "\n",
    "* Write headers, tables, line of texts in markdown syntax\n",
    "* Carry out simple arithmetic in Jupytr notebook\n",
    "* List commonly used libraries in Data Science\n",
    "* List most commonly used Data Science Tools"
   ]
  },
  {
   "cell_type": "markdown",
   "id": "43a6feb1-4306-47b8-aba0-81941541432f",
   "metadata": {},
   "source": [
    "## Author\n",
    "\n",
    "Hyunseok Kim"
   ]
  }
 ],
 "metadata": {
  "kernelspec": {
   "display_name": "Python",
   "language": "python",
   "name": "conda-env-python-py"
  },
  "language_info": {
   "codemirror_mode": {
    "name": "ipython",
    "version": 3
   },
   "file_extension": ".py",
   "mimetype": "text/x-python",
   "name": "python",
   "nbconvert_exporter": "python",
   "pygments_lexer": "ipython3",
   "version": "3.7.12"
  }
 },
 "nbformat": 4,
 "nbformat_minor": 5
}
